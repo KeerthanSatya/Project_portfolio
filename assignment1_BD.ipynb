{
  "nbformat": 4,
  "nbformat_minor": 0,
  "metadata": {
    "colab": {
      "name": "bigdataas1",
      "provenance": [],
      "collapsed_sections": []
    },
    "kernelspec": {
      "name": "python3",
      "display_name": "Python 3"
    },
    "language_info": {
      "name": "python"
    }
  },
  "cells": [
    {
      "cell_type": "code",
      "execution_count": 96,
      "metadata": {
        "id": "7Rv1SoLe8_Dd"
      },
      "outputs": [],
      "source": [
        "import re\n"
      ]
    },
    {
      "cell_type": "markdown",
      "source": [
        "# Definig and reading the input file"
      ],
      "metadata": {
        "id": "R75zkNvlSbsH"
      }
    },
    {
      "cell_type": "code",
      "execution_count": 97,
      "metadata": {
        "id": "m9VkU30LRJ8o"
      },
      "outputs": [],
      "source": [
        "def read(file):\n",
        "  input=open(file)\n",
        "  file=input.readlines()\n",
        "  print(len(file))\n",
        "  return file"
      ]
    },
    {
      "cell_type": "markdown",
      "source": [
        "#**Data Cleaning Function**"
      ],
      "metadata": {
        "id": "YMyofFY3ShTk"
      }
    },
    {
      "cell_type": "code",
      "source": [
        "def data_clean_fun(text_list):\n",
        "  file=text_list\n",
        "  lines_list = []\n",
        "  i=0\n",
        "  for line in file:\n",
        "    lines=line.split('),')\n",
        "    for _ in lines:\n",
        "      lines1= re.sub('[^a-zA-Z0-9, ]+', '', _)\n",
        "      lines1=lines1.strip()\n",
        "      lines1=lines1.replace(' ','')\n",
        "      lines_list.insert(i,lines1)\n",
        "      i=i+1\n",
        "  return lines_list"
      ],
      "metadata": {
        "id": "o8Lz2YLVj72n"
      },
      "execution_count": 98,
      "outputs": []
    },
    {
      "cell_type": "markdown",
      "source": [
        "# **Data Split Function**"
      ],
      "metadata": {
        "id": "NrMpwPP9S18l"
      }
    },
    {
      "cell_type": "code",
      "source": [
        "def data_split_fun(new_list,a):\n",
        "  data_split1=new_list[:a]\n",
        "  data_split2=new_list[a:]\n",
        "  return data_split1,data_split2\n",
        "\n"
      ],
      "metadata": {
        "id": "f9QfhqFymZoZ"
      },
      "execution_count": 99,
      "outputs": []
    },
    {
      "cell_type": "markdown",
      "source": [
        "# Mapper Functions\n"
      ],
      "metadata": {
        "id": "961YVlUJTSWs"
      }
    },
    {
      "cell_type": "code",
      "source": [
        "def mapper_1(List1):\n",
        "  keyvalue=[]\n",
        "  a_new_list=List1\n",
        "  for list_vales in a_new_list:\n",
        "    year, temp = list_vales[0:4],list_vales[7:10]\n",
        "\n",
        "    keyvalue.append([year,int(temp)])\n",
        "\n",
        "  return keyvalue\n",
        "\n"
      ],
      "metadata": {
        "id": "-OU-VA4PrTWO"
      },
      "execution_count": 100,
      "outputs": []
    },
    {
      "cell_type": "code",
      "source": [
        "def mapper_2(List2):\n",
        "  keyvalue1=[]\n",
        "  a_new_list1=List2\n",
        "  for list_vales1 in a_new_list1:\n",
        "    year, temp = list_vales1[0:4],list_vales1[7:10]\n",
        "    #print(type(temp))\n",
        "    #temp=int(temp)\n",
        "    keyvalue1.append([year,int(temp)])\n",
        "  #print(year)\n",
        "  #print(temp)\n",
        "  return keyvalue1"
      ],
      "metadata": {
        "id": "dRRG9lOuyAhs"
      },
      "execution_count": 101,
      "outputs": []
    },
    {
      "cell_type": "markdown",
      "source": [
        "# Sort Function"
      ],
      "metadata": {
        "id": "Y9utgnlzT0DS"
      }
    },
    {
      "cell_type": "code",
      "source": [
        "def sort_fun(list1,list2):\n",
        "  combined_list=list1+list2\n",
        "  combined_list.sort(key= lambda x:x[0])\n",
        "  return combined_list"
      ],
      "metadata": {
        "id": "-gX2yrHWxmrk"
      },
      "execution_count": 102,
      "outputs": []
    },
    {
      "cell_type": "markdown",
      "source": [
        "# Partition Function\n"
      ],
      "metadata": {
        "id": "-uOLToTKUGBf"
      }
    },
    {
      "cell_type": "code",
      "source": [
        "def partition_fun(sorted_list1):\n",
        "  partition1=[]\n",
        "  partition2=[]\n",
        "  sort_list=sorted_list1\n",
        "#  partition1=sort_list[:1000]\n",
        "#   partition2=sort_list[1000:]\n",
        "  for values in sort_list:\n",
        "    if values[0] in ['2010','2011','2012','2013','2014','2015']:\n",
        "      partition1.append(values)\n",
        "    else:partition2.append(values)\n",
        "  return partition1,partition2"
      ],
      "metadata": {
        "id": "6i9fXZFUzgxh"
      },
      "execution_count": 103,
      "outputs": []
    },
    {
      "cell_type": "markdown",
      "source": [
        "# Reducer Function"
      ],
      "metadata": {
        "id": "ck6yJrUpUOAg"
      }
    },
    {
      "cell_type": "code",
      "source": [
        "def reducer_fun(partition1):\n",
        "  result_list=[]\n",
        "  partition_list=partition1\n",
        "  last_key,max_temp=(None,0)\n",
        "  for year_temp in partition_list:\n",
        "    year,temp=year_temp[0],year_temp[1]\n",
        "    if last_key and last_key !=year:\n",
        "      result_list.append([last_key,max_temp])\n",
        "      (last_key,max_temp)=(year,temp)\n",
        "    else:(last_key,max_temp)=(year,max(max_temp,temp))\n",
        "    \n",
        "  return result_list\n",
        "    "
      ],
      "metadata": {
        "id": "2_gdDgkB1VZD"
      },
      "execution_count": 104,
      "outputs": []
    },
    {
      "cell_type": "markdown",
      "source": [
        "# Importing Temperatures.txt using file.upload()"
      ],
      "metadata": {
        "id": "frQjZ0D2USML"
      }
    },
    {
      "cell_type": "code",
      "source": [
        "from google.colab import files\n",
        "uploaded = files.upload()"
      ],
      "metadata": {
        "colab": {
          "resources": {
            "http://localhost:8080/nbextensions/google.colab/files.js": {
              "data": "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",
              "ok": true,
              "headers": [
                [
                  "content-type",
                  "application/javascript"
                ]
              ],
              "status": 200,
              "status_text": ""
            }
          },
          "base_uri": "https://localhost:8080/",
          "height": 39
        },
        "id": "hY-Wnjk1FQx0",
        "outputId": "ca96a6d4-3e06-43a5-a61d-50383b700dce"
      },
      "execution_count": 105,
      "outputs": [
        {
          "output_type": "display_data",
          "data": {
            "text/html": [
              "\n",
              "     <input type=\"file\" id=\"files-8ba17cb5-2b88-4c83-bcac-efe9037870f6\" name=\"files[]\" multiple disabled\n",
              "        style=\"border:none\" />\n",
              "     <output id=\"result-8ba17cb5-2b88-4c83-bcac-efe9037870f6\">\n",
              "      Upload widget is only available when the cell has been executed in the\n",
              "      current browser session. Please rerun this cell to enable.\n",
              "      </output>\n",
              "      <script src=\"/nbextensions/google.colab/files.js\"></script> "
            ],
            "text/plain": [
              "<IPython.core.display.HTML object>"
            ]
          },
          "metadata": {}
        }
      ]
    },
    {
      "cell_type": "markdown",
      "source": [
        "# Main Function"
      ],
      "metadata": {
        "id": "fLBX8Y3XUa0W"
      }
    },
    {
      "cell_type": "code",
      "source": [
        "text_list=read(\"Temperatures.txt\")\n",
        "temp_list=data_clean_fun(text_list)\n",
        "print(len(temp_list))\n",
        "print(temp_list[2])\n",
        "a: int=len(temp_list) // 2\n",
        "Split1,Split2=data_split_fun(temp_list,a)\n",
        "print(len(Split1))\n",
        "print(len(Split2))\n",
        "keyvalue1_1=mapper_1(Split1)\n",
        "keyvalue1_2=mapper_2(Split2)\n",
        "sorted_list=sort_fun(keyvalue1_1,keyvalue1_2)\n",
        "partition1,partition2=partition_fun(sorted_list)\n",
        "reducer_list=reducer_fun(partition1)\n",
        "reducer_list1=reducer_fun(partition2)\n",
        "\n",
        "#combining both partitions\n",
        "combined_output = reducer_list + reducer_list1\n",
        "\n",
        "\n"
      ],
      "metadata": {
        "colab": {
          "base_uri": "https://localhost:8080/"
        },
        "id": "qtFfGwU8lqY3",
        "outputId": "eb34d612-8720-4660-b46c-cc986f8f11a1"
      },
      "execution_count": 106,
      "outputs": [
        {
          "output_type": "stream",
          "name": "stdout",
          "text": [
            "1000\n",
            "2000\n",
            "202002,88\n",
            "1000\n",
            "1000\n"
          ]
        }
      ]
    },
    {
      "cell_type": "code",
      "source": [
        "print(Split2[9])\n",
        "print(Split2[9][7:11])\n",
        "print(Split2[10])\n",
        "print(Split2[10][7:10])"
      ],
      "metadata": {
        "colab": {
          "base_uri": "https://localhost:8080/"
        },
        "id": "B_cEtXhT6KXM",
        "outputId": "692856b7-6519-4812-b44e-af0a3eeaae3e"
      },
      "execution_count": 107,
      "outputs": [
        {
          "output_type": "stream",
          "name": "stdout",
          "text": [
            "201109,106\n",
            "106\n",
            "201704,38\n",
            "38\n"
          ]
        }
      ]
    },
    {
      "cell_type": "code",
      "source": [
        "print(reducer_list)\n",
        "print(reducer_list1)"
      ],
      "metadata": {
        "colab": {
          "base_uri": "https://localhost:8080/"
        },
        "id": "U_0alXsv5nFd",
        "outputId": "7021a764-b326-4802-bb71-1817db26f518"
      },
      "execution_count": 108,
      "outputs": [
        {
          "output_type": "stream",
          "name": "stdout",
          "text": [
            "[['2010', 120], ['2011', 120], ['2012', 120], ['2013', 120], ['2014', 120]]\n",
            "[['2016', 120], ['2017', 120], ['2018', 120], ['2019', 120]]\n"
          ]
        }
      ]
    },
    {
      "cell_type": "code",
      "source": [
        "print(partition1)\n",
        "print(partition2)"
      ],
      "metadata": {
        "colab": {
          "base_uri": "https://localhost:8080/"
        },
        "id": "rNGiQXn3mVPM",
        "outputId": "abf40983-695d-47f3-a201-f81da227f74c"
      },
      "execution_count": 109,
      "outputs": [
        {
          "output_type": "stream",
          "name": "stdout",
          "text": [
            "[['2010', 113], ['2010', 115], ['2010', 114], ['2010', 116], ['2010', 82], ['2010', 36], ['2010', 98], ['2010', 98], ['2010', 116], ['2010', 88], ['2010', 97], ['2010', 65], ['2010', 104], ['2010', 119], ['2010', 66], ['2010', 39], ['2010', 119], ['2010', 109], ['2010', 65], ['2010', 98], ['2010', 31], ['2010', 105], ['2010', 94], ['2010', 52], ['2010', 83], ['2010', 85], ['2010', 74], ['2010', 54], ['2010', 113], ['2010', 99], ['2010', 80], ['2010', 94], ['2010', 78], ['2010', 51], ['2010', 39], ['2010', 88], ['2010', 54], ['2010', 37], ['2010', 84], ['2010', 85], ['2010', 106], ['2010', 113], ['2010', 63], ['2010', 97], ['2010', 99], ['2010', 86], ['2010', 97], ['2010', 96], ['2010', 71], ['2010', 105], ['2010', 69], ['2010', 72], ['2010', 68], ['2010', 56], ['2010', 53], ['2010', 109], ['2010', 104], ['2010', 114], ['2010', 33], ['2010', 98], ['2010', 72], ['2010', 52], ['2010', 72], ['2010', 71], ['2010', 74], ['2010', 84], ['2010', 102], ['2010', 93], ['2010', 50], ['2010', 111], ['2010', 102], ['2010', 37], ['2010', 30], ['2010', 94], ['2010', 62], ['2010', 107], ['2010', 30], ['2010', 34], ['2010', 33], ['2010', 118], ['2010', 67], ['2010', 56], ['2010', 52], ['2010', 51], ['2010', 97], ['2010', 41], ['2010', 53], ['2010', 51], ['2010', 48], ['2010', 116], ['2010', 89], ['2010', 39], ['2010', 54], ['2010', 52], ['2010', 55], ['2010', 67], ['2010', 32], ['2010', 79], ['2010', 36], ['2010', 79], ['2010', 112], ['2010', 81], ['2010', 103], ['2010', 120], ['2010', 119], ['2010', 103], ['2010', 42], ['2010', 67], ['2010', 55], ['2010', 115], ['2010', 54], ['2010', 94], ['2010', 90], ['2010', 87], ['2010', 92], ['2010', 98], ['2010', 112], ['2010', 79], ['2010', 76], ['2010', 73], ['2010', 66], ['2010', 34], ['2010', 68], ['2010', 74], ['2010', 50], ['2010', 104], ['2010', 46], ['2010', 103], ['2010', 96], ['2010', 102], ['2010', 89], ['2010', 118], ['2010', 56], ['2010', 95], ['2010', 43], ['2010', 55], ['2010', 113], ['2010', 81], ['2010', 40], ['2010', 100], ['2010', 82], ['2010', 79], ['2010', 45], ['2010', 91], ['2010', 56], ['2010', 88], ['2010', 58], ['2010', 34], ['2010', 62], ['2010', 66], ['2010', 68], ['2010', 74], ['2010', 42], ['2010', 91], ['2010', 102], ['2010', 35], ['2010', 63], ['2010', 53], ['2010', 41], ['2010', 115], ['2010', 80], ['2010', 57], ['2010', 105], ['2010', 80], ['2010', 71], ['2010', 66], ['2010', 49], ['2010', 110], ['2010', 42], ['2010', 61], ['2010', 108], ['2010', 53], ['2010', 97], ['2010', 37], ['2010', 66], ['2010', 78], ['2010', 104], ['2010', 77], ['2010', 36], ['2010', 105], ['2010', 91], ['2010', 37], ['2010', 99], ['2010', 118], ['2010', 82], ['2010', 62], ['2010', 30], ['2010', 120], ['2010', 71], ['2010', 90], ['2010', 87], ['2010', 33], ['2010', 50], ['2010', 43], ['2010', 115], ['2010', 110], ['2010', 87], ['2010', 54], ['2010', 102], ['2010', 74], ['2010', 105], ['2010', 41], ['2011', 50], ['2011', 41], ['2011', 117], ['2011', 58], ['2011', 66], ['2011', 52], ['2011', 69], ['2011', 101], ['2011', 75], ['2011', 104], ['2011', 93], ['2011', 108], ['2011', 46], ['2011', 76], ['2011', 78], ['2011', 73], ['2011', 80], ['2011', 57], ['2011', 66], ['2011', 73], ['2011', 82], ['2011', 33], ['2011', 88], ['2011', 70], ['2011', 99], ['2011', 71], ['2011', 41], ['2011', 37], ['2011', 120], ['2011', 50], ['2011', 86], ['2011', 58], ['2011', 80], ['2011', 42], ['2011', 56], ['2011', 32], ['2011', 67], ['2011', 31], ['2011', 98], ['2011', 113], ['2011', 93], ['2011', 105], ['2011', 38], ['2011', 60], ['2011', 91], ['2011', 93], ['2011', 108], ['2011', 45], ['2011', 36], ['2011', 73], ['2011', 54], ['2011', 98], ['2011', 44], ['2011', 68], ['2011', 101], ['2011', 76], ['2011', 75], ['2011', 86], ['2011', 119], ['2011', 78], ['2011', 118], ['2011', 54], ['2011', 94], ['2011', 46], ['2011', 115], ['2011', 112], ['2011', 87], ['2011', 79], ['2011', 46], ['2011', 110], ['2011', 90], ['2011', 106], ['2011', 91], ['2011', 70], ['2011', 51], ['2011', 38], ['2011', 37], ['2011', 120], ['2011', 42], ['2011', 65], ['2011', 58], ['2011', 53], ['2011', 97], ['2011', 64], ['2011', 88], ['2011', 103], ['2011', 91], ['2011', 114], ['2011', 53], ['2011', 53], ['2011', 106], ['2011', 70], ['2011', 84], ['2011', 52], ['2011', 42], ['2011', 50], ['2011', 50], ['2011', 32], ['2011', 54], ['2011', 110], ['2011', 79], ['2011', 58], ['2011', 72], ['2011', 72], ['2011', 80], ['2011', 51], ['2011', 66], ['2011', 92], ['2011', 94], ['2011', 34], ['2011', 105], ['2011', 79], ['2011', 106], ['2011', 113], ['2011', 59], ['2011', 77], ['2011', 66], ['2011', 59], ['2011', 113], ['2011', 38], ['2011', 111], ['2011', 93], ['2011', 94], ['2011', 31], ['2011', 58], ['2011', 109], ['2011', 76], ['2011', 106], ['2011', 40], ['2011', 113], ['2011', 100], ['2011', 103], ['2011', 112], ['2011', 47], ['2011', 54], ['2011', 55], ['2011', 56], ['2011', 87], ['2011', 75], ['2011', 50], ['2011', 49], ['2011', 60], ['2011', 120], ['2011', 87], ['2011', 80], ['2011', 72], ['2011', 54], ['2011', 108], ['2011', 106], ['2011', 86], ['2011', 69], ['2011', 106], ['2011', 41], ['2011', 75], ['2011', 44], ['2011', 75], ['2011', 59], ['2011', 97], ['2011', 77], ['2011', 32], ['2011', 88], ['2011', 43], ['2011', 50], ['2011', 113], ['2011', 95], ['2011', 79], ['2011', 50], ['2011', 108], ['2011', 67], ['2011', 45], ['2011', 48], ['2011', 85], ['2011', 98], ['2011', 48], ['2012', 78], ['2012', 75], ['2012', 62], ['2012', 32], ['2012', 74], ['2012', 65], ['2012', 84], ['2012', 105], ['2012', 48], ['2012', 54], ['2012', 42], ['2012', 46], ['2012', 115], ['2012', 81], ['2012', 59], ['2012', 37], ['2012', 100], ['2012', 71], ['2012', 59], ['2012', 118], ['2012', 90], ['2012', 94], ['2012', 50], ['2012', 35], ['2012', 70], ['2012', 87], ['2012', 110], ['2012', 41], ['2012', 58], ['2012', 79], ['2012', 65], ['2012', 74], ['2012', 35], ['2012', 97], ['2012', 31], ['2012', 47], ['2012', 83], ['2012', 76], ['2012', 105], ['2012', 94], ['2012', 104], ['2012', 94], ['2012', 101], ['2012', 71], ['2012', 97], ['2012', 104], ['2012', 75], ['2012', 86], ['2012', 95], ['2012', 106], ['2012', 89], ['2012', 47], ['2012', 54], ['2012', 76], ['2012', 38], ['2012', 31], ['2012', 105], ['2012', 92], ['2012', 112], ['2012', 73], ['2012', 41], ['2012', 59], ['2012', 46], ['2012', 92], ['2012', 119], ['2012', 77], ['2012', 39], ['2012', 94], ['2012', 37], ['2012', 86], ['2012', 55], ['2012', 72], ['2012', 37], ['2012', 90], ['2012', 71], ['2012', 80], ['2012', 49], ['2012', 94], ['2012', 30], ['2012', 82], ['2012', 76], ['2012', 89], ['2012', 95], ['2012', 106], ['2012', 89], ['2012', 59], ['2012', 56], ['2012', 116], ['2012', 116], ['2012', 79], ['2012', 87], ['2012', 92], ['2012', 51], ['2012', 66], ['2012', 44], ['2012', 79], ['2012', 50], ['2012', 73], ['2012', 87], ['2012', 63], ['2012', 40], ['2012', 115], ['2012', 45], ['2012', 85], ['2012', 115], ['2012', 61], ['2012', 41], ['2012', 69], ['2012', 57], ['2012', 115], ['2012', 60], ['2012', 99], ['2012', 32], ['2012', 66], ['2012', 113], ['2012', 33], ['2012', 44], ['2012', 44], ['2012', 33], ['2012', 36], ['2012', 80], ['2012', 84], ['2012', 60], ['2012', 116], ['2012', 50], ['2012', 94], ['2012', 106], ['2012', 79], ['2012', 114], ['2012', 98], ['2012', 66], ['2012', 34], ['2012', 101], ['2012', 45], ['2012', 68], ['2012', 32], ['2012', 80], ['2012', 114], ['2012', 97], ['2012', 50], ['2012', 117], ['2012', 100], ['2012', 37], ['2012', 49], ['2012', 76], ['2012', 62], ['2012', 63], ['2012', 113], ['2012', 63], ['2012', 39], ['2012', 73], ['2012', 120], ['2012', 77], ['2012', 37], ['2012', 81], ['2012', 115], ['2013', 75], ['2013', 110], ['2013', 61], ['2013', 103], ['2013', 41], ['2013', 61], ['2013', 114], ['2013', 33], ['2013', 81], ['2013', 107], ['2013', 52], ['2013', 106], ['2013', 65], ['2013', 90], ['2013', 78], ['2013', 70], ['2013', 30], ['2013', 41], ['2013', 73], ['2013', 73], ['2013', 62], ['2013', 46], ['2013', 64], ['2013', 45], ['2013', 60], ['2013', 49], ['2013', 78], ['2013', 87], ['2013', 107], ['2013', 98], ['2013', 68], ['2013', 55], ['2013', 80], ['2013', 118], ['2013', 56], ['2013', 92], ['2013', 72], ['2013', 106], ['2013', 108], ['2013', 88], ['2013', 118], ['2013', 100], ['2013', 100], ['2013', 53], ['2013', 101], ['2013', 117], ['2013', 50], ['2013', 118], ['2013', 89], ['2013', 94], ['2013', 46], ['2013', 37], ['2013', 117], ['2013', 56], ['2013', 111], ['2013', 105], ['2013', 108], ['2013', 31], ['2013', 35], ['2013', 33], ['2013', 117], ['2013', 104], ['2013', 48], ['2013', 73], ['2013', 62], ['2013', 39], ['2013', 43], ['2013', 61], ['2013', 85], ['2013', 48], ['2013', 83], ['2013', 84], ['2013', 103], ['2013', 119], ['2013', 95], ['2013', 120], ['2013', 61], ['2013', 44], ['2013', 95], ['2013', 42], ['2013', 116], ['2013', 60], ['2013', 80], ['2013', 46], ['2013', 50], ['2013', 48], ['2013', 40], ['2013', 50], ['2013', 41], ['2013', 48], ['2013', 95], ['2013', 36], ['2013', 35], ['2013', 77], ['2013', 41], ['2013', 62], ['2013', 60], ['2013', 44], ['2013', 32], ['2013', 75], ['2013', 32], ['2013', 38], ['2013', 114], ['2013', 59], ['2013', 41], ['2013', 116], ['2013', 116], ['2013', 96], ['2013', 69], ['2013', 32], ['2013', 41], ['2013', 55], ['2013', 109], ['2013', 63], ['2013', 104], ['2013', 49], ['2013', 102], ['2013', 120], ['2013', 42], ['2013', 52], ['2013', 91], ['2013', 49], ['2013', 32], ['2013', 92], ['2013', 78], ['2013', 84], ['2013', 52], ['2013', 88], ['2013', 120], ['2013', 109], ['2013', 108], ['2013', 99], ['2013', 54], ['2013', 36], ['2013', 50], ['2013', 54], ['2013', 96], ['2013', 78], ['2013', 116], ['2013', 84], ['2013', 112], ['2013', 68], ['2013', 87], ['2013', 48], ['2013', 107], ['2013', 72], ['2013', 42], ['2013', 81], ['2013', 62], ['2013', 56], ['2013', 34], ['2013', 96], ['2013', 49], ['2013', 65], ['2013', 50], ['2013', 65], ['2013', 99], ['2013', 43], ['2013', 81], ['2013', 92], ['2013', 109], ['2013', 76], ['2013', 58], ['2013', 118], ['2013', 64], ['2013', 87], ['2013', 79], ['2013', 113], ['2013', 37], ['2013', 80], ['2013', 118], ['2014', 83], ['2014', 93], ['2014', 106], ['2014', 79], ['2014', 82], ['2014', 119], ['2014', 111], ['2014', 92], ['2014', 87], ['2014', 102], ['2014', 81], ['2014', 45], ['2014', 75], ['2014', 40], ['2014', 118], ['2014', 92], ['2014', 105], ['2014', 31], ['2014', 59], ['2014', 36], ['2014', 59], ['2014', 107], ['2014', 52], ['2014', 91], ['2014', 50], ['2014', 82], ['2014', 112], ['2014', 118], ['2014', 63], ['2014', 48], ['2014', 60], ['2014', 41], ['2014', 64], ['2014', 83], ['2014', 74], ['2014', 35], ['2014', 70], ['2014', 34], ['2014', 107], ['2014', 107], ['2014', 113], ['2014', 105], ['2014', 98], ['2014', 37], ['2014', 69], ['2014', 76], ['2014', 111], ['2014', 40], ['2014', 98], ['2014', 99], ['2014', 110], ['2014', 91], ['2014', 72], ['2014', 92], ['2014', 71], ['2014', 44], ['2014', 56], ['2014', 109], ['2014', 116], ['2014', 49], ['2014', 88], ['2014', 91], ['2014', 52], ['2014', 73], ['2014', 37], ['2014', 44], ['2014', 42], ['2014', 117], ['2014', 30], ['2014', 72], ['2014', 80], ['2014', 36], ['2014', 50], ['2014', 40], ['2014', 72], ['2014', 103], ['2014', 39], ['2014', 90], ['2014', 50], ['2014', 88], ['2014', 46], ['2014', 85], ['2014', 79], ['2014', 70], ['2014', 56], ['2014', 70], ['2014', 43], ['2014', 102], ['2014', 83], ['2014', 60], ['2014', 92], ['2014', 71], ['2014', 94], ['2014', 60], ['2014', 52], ['2014', 39], ['2014', 120], ['2014', 58], ['2014', 54], ['2014', 80], ['2014', 94], ['2014', 90], ['2014', 85], ['2014', 96], ['2014', 52], ['2014', 115], ['2014', 85], ['2014', 73], ['2014', 66], ['2014', 59], ['2014', 92], ['2014', 59], ['2014', 116], ['2014', 57], ['2014', 76], ['2014', 50], ['2014', 64], ['2014', 87], ['2014', 93], ['2014', 62], ['2014', 91], ['2014', 109], ['2014', 110], ['2014', 72], ['2014', 61], ['2014', 41], ['2014', 33], ['2014', 37], ['2014', 34], ['2014', 96], ['2014', 106], ['2014', 102], ['2014', 44], ['2014', 113], ['2014', 81], ['2014', 62], ['2014', 42], ['2014', 38], ['2014', 118], ['2014', 106], ['2014', 63], ['2014', 48], ['2014', 69], ['2014', 114], ['2014', 49], ['2014', 74], ['2014', 101], ['2014', 57], ['2014', 76], ['2014', 70], ['2014', 102], ['2014', 95], ['2014', 59], ['2014', 50], ['2014', 98], ['2014', 80], ['2014', 103], ['2014', 33], ['2014', 52], ['2014', 98], ['2014', 80], ['2014', 100], ['2014', 111], ['2014', 61], ['2014', 113], ['2014', 114], ['2014', 47], ['2014', 90], ['2014', 40], ['2014', 50], ['2014', 42], ['2014', 62], ['2014', 96], ['2014', 80], ['2014', 93], ['2014', 46], ['2014', 113], ['2014', 71], ['2014', 81], ['2014', 57], ['2014', 48], ['2014', 74], ['2014', 34], ['2014', 75], ['2014', 85], ['2014', 118], ['2014', 74], ['2014', 48], ['2014', 90], ['2014', 55], ['2014', 58], ['2014', 118], ['2014', 120], ['2014', 69], ['2014', 78], ['2014', 97], ['2014', 50], ['2014', 111], ['2014', 57], ['2014', 93], ['2014', 94], ['2014', 94], ['2014', 119], ['2014', 84], ['2014', 76], ['2014', 36], ['2014', 40], ['2014', 63], ['2014', 68], ['2014', 120], ['2014', 107], ['2015', 88], ['2015', 62], ['2015', 52], ['2015', 38], ['2015', 42], ['2015', 50], ['2015', 53], ['2015', 40], ['2015', 107], ['2015', 42], ['2015', 105], ['2015', 48], ['2015', 80], ['2015', 79], ['2015', 50], ['2015', 100], ['2015', 54], ['2015', 108], ['2015', 119], ['2015', 32], ['2015', 118], ['2015', 60], ['2015', 63], ['2015', 76], ['2015', 76], ['2015', 57], ['2015', 101], ['2015', 101], ['2015', 66], ['2015', 84], ['2015', 57], ['2015', 55], ['2015', 93], ['2015', 81], ['2015', 112], ['2015', 87], ['2015', 47], ['2015', 46], ['2015', 71], ['2015', 99], ['2015', 78], ['2015', 94], ['2015', 89], ['2015', 115], ['2015', 91], ['2015', 64], ['2015', 65], ['2015', 59], ['2015', 33], ['2015', 94], ['2015', 94], ['2015', 88], ['2015', 35], ['2015', 117], ['2015', 56], ['2015', 87], ['2015', 36], ['2015', 55], ['2015', 111], ['2015', 115], ['2015', 80], ['2015', 68], ['2015', 56], ['2015', 96], ['2015', 61], ['2015', 63], ['2015', 70], ['2015', 67], ['2015', 65], ['2015', 46], ['2015', 118], ['2015', 111], ['2015', 118], ['2015', 107], ['2015', 69], ['2015', 98], ['2015', 83], ['2015', 111], ['2015', 47], ['2015', 61], ['2015', 45], ['2015', 86], ['2015', 101], ['2015', 53], ['2015', 91], ['2015', 97], ['2015', 55], ['2015', 46], ['2015', 43], ['2015', 94], ['2015', 52], ['2015', 109], ['2015', 120], ['2015', 37], ['2015', 116], ['2015', 114], ['2015', 116], ['2015', 120], ['2015', 106], ['2015', 84], ['2015', 93], ['2015', 71], ['2015', 108], ['2015', 97], ['2015', 80], ['2015', 37], ['2015', 80], ['2015', 120], ['2015', 59], ['2015', 75], ['2015', 91], ['2015', 84], ['2015', 109], ['2015', 76], ['2015', 88], ['2015', 91], ['2015', 60], ['2015', 66], ['2015', 43], ['2015', 61], ['2015', 45], ['2015', 75], ['2015', 33], ['2015', 107], ['2015', 36], ['2015', 50], ['2015', 34], ['2015', 113], ['2015', 67], ['2015', 87], ['2015', 79], ['2015', 81], ['2015', 66], ['2015', 119], ['2015', 58], ['2015', 87], ['2015', 63], ['2015', 37], ['2015', 77], ['2015', 115], ['2015', 106], ['2015', 72], ['2015', 52], ['2015', 107], ['2015', 40], ['2015', 83], ['2015', 52], ['2015', 100], ['2015', 37], ['2015', 86], ['2015', 50], ['2015', 119], ['2015', 57], ['2015', 95], ['2015', 41], ['2015', 94], ['2015', 52], ['2015', 79], ['2015', 66], ['2015', 47], ['2015', 61], ['2015', 70], ['2015', 119], ['2015', 77], ['2015', 35], ['2015', 100], ['2015', 65], ['2015', 55], ['2015', 117], ['2015', 34], ['2015', 97], ['2015', 115], ['2015', 60], ['2015', 118], ['2015', 37], ['2015', 64], ['2015', 96], ['2015', 68], ['2015', 118], ['2015', 93], ['2015', 40], ['2015', 81], ['2015', 97], ['2015', 35], ['2015', 60]]\n",
            "[['2016', 35], ['2016', 31], ['2016', 39], ['2016', 111], ['2016', 73], ['2016', 38], ['2016', 109], ['2016', 44], ['2016', 80], ['2016', 96], ['2016', 102], ['2016', 57], ['2016', 43], ['2016', 48], ['2016', 87], ['2016', 42], ['2016', 85], ['2016', 79], ['2016', 60], ['2016', 118], ['2016', 98], ['2016', 40], ['2016', 117], ['2016', 73], ['2016', 70], ['2016', 45], ['2016', 31], ['2016', 76], ['2016', 55], ['2016', 56], ['2016', 91], ['2016', 100], ['2016', 65], ['2016', 85], ['2016', 91], ['2016', 39], ['2016', 38], ['2016', 59], ['2016', 114], ['2016', 68], ['2016', 78], ['2016', 65], ['2016', 117], ['2016', 107], ['2016', 44], ['2016', 76], ['2016', 92], ['2016', 36], ['2016', 56], ['2016', 65], ['2016', 97], ['2016', 36], ['2016', 120], ['2016', 86], ['2016', 106], ['2016', 56], ['2016', 35], ['2016', 60], ['2016', 46], ['2016', 73], ['2016', 75], ['2016', 74], ['2016', 91], ['2016', 109], ['2016', 59], ['2016', 34], ['2016', 55], ['2016', 98], ['2016', 71], ['2016', 63], ['2016', 41], ['2016', 33], ['2016', 94], ['2016', 61], ['2016', 81], ['2016', 66], ['2016', 108], ['2016', 41], ['2016', 93], ['2016', 120], ['2016', 52], ['2016', 97], ['2016', 34], ['2016', 77], ['2016', 35], ['2016', 61], ['2016', 81], ['2016', 112], ['2016', 80], ['2016', 54], ['2016', 64], ['2016', 39], ['2016', 44], ['2016', 73], ['2016', 83], ['2016', 82], ['2016', 99], ['2016', 101], ['2016', 84], ['2016', 37], ['2016', 56], ['2016', 105], ['2016', 42], ['2016', 102], ['2016', 91], ['2016', 48], ['2016', 107], ['2016', 32], ['2016', 70], ['2016', 54], ['2016', 59], ['2016', 88], ['2016', 69], ['2016', 95], ['2016', 32], ['2016', 96], ['2016', 73], ['2016', 31], ['2016', 99], ['2016', 101], ['2016', 83], ['2016', 113], ['2016', 50], ['2016', 87], ['2016', 75], ['2016', 73], ['2016', 77], ['2016', 81], ['2016', 111], ['2016', 120], ['2016', 65], ['2016', 31], ['2016', 80], ['2016', 66], ['2016', 108], ['2016', 101], ['2016', 37], ['2016', 54], ['2016', 77], ['2016', 85], ['2016', 60], ['2016', 90], ['2016', 73], ['2016', 119], ['2016', 81], ['2016', 103], ['2016', 44], ['2016', 120], ['2016', 84], ['2016', 99], ['2016', 68], ['2016', 90], ['2016', 36], ['2016', 84], ['2016', 52], ['2016', 39], ['2016', 37], ['2016', 82], ['2016', 49], ['2016', 94], ['2016', 59], ['2016', 39], ['2016', 83], ['2016', 57], ['2016', 108], ['2016', 42], ['2016', 113], ['2016', 42], ['2016', 99], ['2016', 82], ['2016', 89], ['2016', 54], ['2016', 43], ['2016', 103], ['2016', 46], ['2016', 32], ['2016', 31], ['2016', 32], ['2016', 95], ['2016', 38], ['2016', 120], ['2016', 64], ['2016', 84], ['2016', 67], ['2016', 34], ['2016', 77], ['2016', 92], ['2016', 86], ['2016', 60], ['2016', 108], ['2017', 61], ['2017', 114], ['2017', 60], ['2017', 105], ['2017', 55], ['2017', 31], ['2017', 120], ['2017', 46], ['2017', 91], ['2017', 61], ['2017', 54], ['2017', 71], ['2017', 74], ['2017', 35], ['2017', 85], ['2017', 61], ['2017', 118], ['2017', 72], ['2017', 73], ['2017', 64], ['2017', 97], ['2017', 78], ['2017', 70], ['2017', 31], ['2017', 42], ['2017', 82], ['2017', 37], ['2017', 113], ['2017', 104], ['2017', 84], ['2017', 116], ['2017', 111], ['2017', 77], ['2017', 55], ['2017', 33], ['2017', 37], ['2017', 53], ['2017', 114], ['2017', 109], ['2017', 64], ['2017', 84], ['2017', 79], ['2017', 61], ['2017', 86], ['2017', 62], ['2017', 96], ['2017', 68], ['2017', 65], ['2017', 95], ['2017', 67], ['2017', 30], ['2017', 39], ['2017', 102], ['2017', 49], ['2017', 77], ['2017', 51], ['2017', 64], ['2017', 38], ['2017', 86], ['2017', 67], ['2017', 114], ['2017', 79], ['2017', 83], ['2017', 60], ['2017', 60], ['2017', 88], ['2017', 33], ['2017', 88], ['2017', 119], ['2017', 60], ['2017', 68], ['2017', 66], ['2017', 54], ['2017', 81], ['2017', 37], ['2017', 47], ['2017', 101], ['2017', 55], ['2017', 80], ['2017', 92], ['2017', 50], ['2017', 93], ['2017', 100], ['2017', 72], ['2017', 30], ['2017', 61], ['2017', 81], ['2017', 118], ['2017', 65], ['2017', 105], ['2017', 38], ['2017', 119], ['2017', 109], ['2017', 34], ['2017', 77], ['2017', 59], ['2017', 105], ['2017', 88], ['2017', 61], ['2017', 44], ['2017', 82], ['2017', 35], ['2017', 92], ['2017', 77], ['2017', 114], ['2017', 39], ['2017', 58], ['2017', 43], ['2017', 107], ['2017', 114], ['2017', 86], ['2017', 56], ['2017', 71], ['2017', 74], ['2017', 38], ['2017', 47], ['2017', 108], ['2017', 43], ['2017', 114], ['2017', 33], ['2017', 89], ['2017', 43], ['2017', 119], ['2017', 57], ['2017', 117], ['2017', 61], ['2017', 62], ['2017', 116], ['2017', 48], ['2017', 33], ['2017', 56], ['2017', 114], ['2017', 113], ['2017', 88], ['2017', 59], ['2017', 45], ['2017', 62], ['2017', 72], ['2017', 71], ['2017', 69], ['2017', 82], ['2017', 106], ['2017', 53], ['2017', 99], ['2017', 89], ['2017', 95], ['2017', 78], ['2017', 36], ['2017', 112], ['2017', 80], ['2017', 68], ['2017', 107], ['2017', 102], ['2017', 41], ['2017', 111], ['2017', 52], ['2017', 91], ['2017', 74], ['2017', 57], ['2017', 55], ['2017', 103], ['2017', 118], ['2017', 64], ['2017', 31], ['2017', 78], ['2017', 98], ['2017', 105], ['2017', 107], ['2017', 116], ['2017', 34], ['2017', 39], ['2017', 68], ['2017', 43], ['2017', 117], ['2017', 116], ['2017', 91], ['2017', 40], ['2017', 71], ['2017', 56], ['2017', 63], ['2017', 38], ['2017', 51], ['2017', 62], ['2017', 31], ['2017', 55], ['2017', 52], ['2017', 62], ['2017', 34], ['2018', 95], ['2018', 57], ['2018', 84], ['2018', 68], ['2018', 64], ['2018', 109], ['2018', 40], ['2018', 89], ['2018', 67], ['2018', 120], ['2018', 79], ['2018', 100], ['2018', 117], ['2018', 111], ['2018', 89], ['2018', 58], ['2018', 106], ['2018', 45], ['2018', 88], ['2018', 71], ['2018', 55], ['2018', 116], ['2018', 43], ['2018', 41], ['2018', 56], ['2018', 106], ['2018', 107], ['2018', 119], ['2018', 63], ['2018', 93], ['2018', 64], ['2018', 59], ['2018', 72], ['2018', 108], ['2018', 69], ['2018', 119], ['2018', 32], ['2018', 109], ['2018', 70], ['2018', 30], ['2018', 67], ['2018', 68], ['2018', 30], ['2018', 70], ['2018', 38], ['2018', 60], ['2018', 33], ['2018', 96], ['2018', 31], ['2018', 58], ['2018', 53], ['2018', 70], ['2018', 37], ['2018', 41], ['2018', 33], ['2018', 120], ['2018', 45], ['2018', 70], ['2018', 82], ['2018', 71], ['2018', 62], ['2018', 68], ['2018', 107], ['2018', 87], ['2018', 48], ['2018', 35], ['2018', 68], ['2018', 117], ['2018', 80], ['2018', 49], ['2018', 73], ['2018', 62], ['2018', 80], ['2018', 105], ['2018', 110], ['2018', 44], ['2018', 99], ['2018', 115], ['2018', 86], ['2018', 92], ['2018', 50], ['2018', 113], ['2018', 47], ['2018', 100], ['2018', 97], ['2018', 88], ['2018', 39], ['2018', 37], ['2018', 88], ['2018', 117], ['2018', 119], ['2018', 47], ['2018', 48], ['2018', 38], ['2018', 97], ['2018', 51], ['2018', 89], ['2018', 89], ['2018', 106], ['2018', 88], ['2018', 82], ['2018', 113], ['2018', 47], ['2018', 99], ['2018', 41], ['2018', 87], ['2018', 34], ['2018', 57], ['2018', 82], ['2018', 60], ['2018', 80], ['2018', 71], ['2018', 77], ['2018', 118], ['2018', 106], ['2018', 50], ['2018', 80], ['2018', 45], ['2018', 31], ['2018', 31], ['2018', 91], ['2018', 78], ['2018', 114], ['2018', 57], ['2018', 60], ['2018', 54], ['2018', 35], ['2018', 82], ['2018', 108], ['2018', 72], ['2018', 83], ['2018', 115], ['2018', 90], ['2018', 54], ['2018', 81], ['2018', 64], ['2018', 45], ['2018', 33], ['2018', 33], ['2018', 88], ['2018', 75], ['2018', 85], ['2018', 59], ['2018', 76], ['2018', 82], ['2018', 64], ['2018', 120], ['2018', 109], ['2018', 67], ['2018', 111], ['2018', 74], ['2018', 83], ['2018', 118], ['2018', 60], ['2018', 92], ['2018', 101], ['2018', 105], ['2018', 101], ['2018', 84], ['2018', 115], ['2018', 95], ['2018', 106], ['2018', 38], ['2019', 39], ['2019', 98], ['2019', 95], ['2019', 44], ['2019', 107], ['2019', 85], ['2019', 119], ['2019', 55], ['2019', 64], ['2019', 31], ['2019', 111], ['2019', 33], ['2019', 54], ['2019', 34], ['2019', 75], ['2019', 70], ['2019', 116], ['2019', 48], ['2019', 88], ['2019', 95], ['2019', 60], ['2019', 39], ['2019', 62], ['2019', 66], ['2019', 69], ['2019', 61], ['2019', 88], ['2019', 41], ['2019', 110], ['2019', 115], ['2019', 61], ['2019', 44], ['2019', 54], ['2019', 72], ['2019', 110], ['2019', 42], ['2019', 90], ['2019', 80], ['2019', 113], ['2019', 64], ['2019', 75], ['2019', 103], ['2019', 81], ['2019', 41], ['2019', 53], ['2019', 113], ['2019', 46], ['2019', 80], ['2019', 55], ['2019', 117], ['2019', 108], ['2019', 32], ['2019', 40], ['2019', 78], ['2019', 34], ['2019', 119], ['2019', 115], ['2019', 90], ['2019', 92], ['2019', 49], ['2019', 108], ['2019', 32], ['2019', 37], ['2019', 33], ['2019', 96], ['2019', 65], ['2019', 55], ['2019', 96], ['2019', 63], ['2019', 38], ['2019', 117], ['2019', 56], ['2019', 81], ['2019', 61], ['2019', 49], ['2019', 110], ['2019', 33], ['2019', 91], ['2019', 85], ['2019', 103], ['2019', 91], ['2019', 89], ['2019', 71], ['2019', 33], ['2019', 81], ['2019', 67], ['2019', 59], ['2019', 112], ['2019', 76], ['2019', 88], ['2019', 55], ['2019', 51], ['2019', 66], ['2019', 95], ['2019', 115], ['2019', 119], ['2019', 103], ['2019', 76], ['2019', 107], ['2019', 84], ['2019', 105], ['2019', 30], ['2019', 106], ['2019', 52], ['2019', 101], ['2019', 39], ['2019', 119], ['2019', 109], ['2019', 111], ['2019', 43], ['2019', 108], ['2019', 47], ['2019', 84], ['2019', 88], ['2019', 60], ['2019', 75], ['2019', 81], ['2019', 108], ['2019', 34], ['2019', 59], ['2019', 41], ['2019', 92], ['2019', 54], ['2019', 65], ['2019', 67], ['2019', 49], ['2019', 118], ['2019', 45], ['2019', 74], ['2019', 47], ['2019', 66], ['2019', 51], ['2019', 120], ['2019', 118], ['2019', 115], ['2019', 72], ['2019', 83], ['2019', 88], ['2019', 42], ['2019', 39], ['2019', 77], ['2019', 43], ['2019', 32], ['2019', 54], ['2019', 64], ['2019', 65], ['2019', 113], ['2019', 60], ['2019', 46], ['2019', 37], ['2019', 106], ['2019', 118], ['2019', 72], ['2019', 39], ['2019', 95], ['2019', 101], ['2019', 57], ['2019', 107], ['2019', 103], ['2019', 41], ['2019', 44], ['2019', 36], ['2019', 49], ['2019', 93], ['2019', 46], ['2019', 114], ['2019', 37], ['2019', 68], ['2019', 105], ['2019', 105], ['2019', 115], ['2019', 67], ['2019', 65], ['2019', 61], ['2019', 81], ['2019', 107], ['2019', 97], ['2019', 113], ['2020', 88], ['2020', 76], ['2020', 101], ['2020', 81], ['2020', 98], ['2020', 95], ['2020', 52], ['2020', 57], ['2020', 74], ['2020', 47], ['2020', 111], ['2020', 92], ['2020', 93], ['2020', 94], ['2020', 36], ['2020', 114], ['2020', 86], ['2020', 66], ['2020', 70], ['2020', 120], ['2020', 45], ['2020', 62], ['2020', 102], ['2020', 65], ['2020', 36], ['2020', 113], ['2020', 120], ['2020', 120], ['2020', 63], ['2020', 58], ['2020', 92], ['2020', 108], ['2020', 116], ['2020', 74], ['2020', 66], ['2020', 35], ['2020', 87], ['2020', 104], ['2020', 78], ['2020', 81], ['2020', 76], ['2020', 77], ['2020', 88], ['2020', 67], ['2020', 40], ['2020', 107], ['2020', 52], ['2020', 87], ['2020', 95], ['2020', 37], ['2020', 95], ['2020', 51], ['2020', 107], ['2020', 65], ['2020', 110], ['2020', 59], ['2020', 37], ['2020', 45], ['2020', 32], ['2020', 117], ['2020', 62], ['2020', 113], ['2020', 49], ['2020', 77], ['2020', 93], ['2020', 47], ['2020', 42], ['2020', 46], ['2020', 79], ['2020', 65], ['2020', 86], ['2020', 120], ['2020', 119], ['2020', 66], ['2020', 102], ['2020', 68], ['2020', 69], ['2020', 48], ['2020', 73], ['2020', 86], ['2020', 83], ['2020', 42], ['2020', 37], ['2020', 109], ['2020', 102], ['2020', 54], ['2020', 68], ['2020', 55], ['2020', 71], ['2020', 43], ['2020', 39], ['2020', 39], ['2020', 66], ['2020', 37], ['2020', 119], ['2020', 104], ['2020', 88], ['2020', 70], ['2020', 90], ['2020', 59], ['2020', 91], ['2020', 97], ['2020', 33], ['2020', 97], ['2020', 113], ['2020', 60], ['2020', 32], ['2020', 84], ['2020', 88], ['2020', 68], ['2020', 42], ['2020', 52], ['2020', 52], ['2020', 54], ['2020', 33], ['2020', 101], ['2020', 119], ['2020', 110], ['2020', 56], ['2020', 31], ['2020', 75], ['2020', 45], ['2020', 88], ['2020', 65], ['2020', 88], ['2020', 77], ['2020', 39], ['2020', 42], ['2020', 41], ['2020', 32], ['2020', 47], ['2020', 83], ['2020', 63], ['2020', 65], ['2020', 99], ['2020', 85], ['2020', 30], ['2020', 62], ['2020', 76], ['2020', 77], ['2020', 50], ['2020', 37], ['2020', 77], ['2020', 97], ['2020', 96], ['2020', 93], ['2020', 97], ['2020', 85], ['2020', 110], ['2020', 62], ['2020', 98], ['2020', 62], ['2020', 43], ['2020', 52], ['2020', 46], ['2020', 86], ['2020', 77], ['2020', 38], ['2020', 103], ['2020', 68], ['2020', 67], ['2020', 99], ['2020', 120], ['2020', 45], ['2020', 109], ['2020', 36], ['2020', 112], ['2020', 76], ['2020', 99], ['2020', 93], ['2020', 106], ['2020', 116], ['2020', 39], ['2020', 112], ['2020', 30], ['2020', 113], ['2020', 63], ['2020', 96], ['2020', 70], ['2020', 55], ['2020', 97], ['2020', 79]]\n"
          ]
        }
      ]
    },
    {
      "cell_type": "code",
      "source": [
        "print(combined_output)"
      ],
      "metadata": {
        "id": "8GKVWWOX7jqw",
        "colab": {
          "base_uri": "https://localhost:8080/"
        },
        "outputId": "b4f0af78-3dc2-4230-af45-3a7bd559140b"
      },
      "execution_count": 110,
      "outputs": [
        {
          "output_type": "stream",
          "name": "stdout",
          "text": [
            "[['2010', 120], ['2011', 120], ['2012', 120], ['2013', 120], ['2014', 120], ['2016', 120], ['2017', 120], ['2018', 120], ['2019', 120]]\n"
          ]
        }
      ]
    },
    {
      "cell_type": "code",
      "source": [
        ""
      ],
      "metadata": {
        "id": "nC4bLa-_ttZE"
      },
      "execution_count": 110,
      "outputs": []
    },
    {
      "cell_type": "code",
      "source": [
        "import pandas as pd\n",
        "output_df = pd.DataFrame(combined_output)\n",
        "output_df.to_csv('final_result.csv', header = [\"Year\",\"Maximum_Temperature\"])"
      ],
      "metadata": {
        "id": "lIOeb2zmmdKv"
      },
      "execution_count": 111,
      "outputs": []
    }
  ]
}